{
 "cells": [
  {
   "cell_type": "code",
   "execution_count": 1,
   "metadata": {},
   "outputs": [],
   "source": [
    "import time\n",
    "from selenium import webdriver\n",
    "from selenium.webdriver.chrome.options import Options\n",
    "\n",
    "option = Options()\n",
    "\n",
    "option.add_argument(\"--disable-infobars\")\n",
    "option.add_argument(\"start-maximized\")\n",
    "option.add_argument(\"--disable-extensions\")\n",
    "\n",
    "# Pass the argument 1 to allow and 2 to block\n",
    "option.add_experimental_option(\"prefs\", { \n",
    "    \"profile.default_content_setting_values.media_stream_mic\": 1 \n",
    "})\n",
    "\n",
    "driver = webdriver.Chrome(options = option, executable_path = r\"C:\\chromedriver\\chromedriver.exe\")\n",
    "driver.get('https://www.google.com/intl/en/chrome/demos/speech.html?authuser=2')\n",
    "\n",
    "dropdown = driver.find_element_by_id(\"select_dialect\")\n",
    "for option in dropdown.find_elements_by_tag_name('option'):\n",
    "    if option.text == 'India':\n",
    "        option.click() # select() in earlier versions of webdriver\n",
    "        break\n",
    "\n",
    "button = driver.find_element_by_id(\"start_button\")\n",
    "button.click()"
   ]
  },
  {
   "cell_type": "code",
   "execution_count": 2,
   "metadata": {},
   "outputs": [],
   "source": [
    "from playsound import playsound\n",
    "playsound(r'C:\\Users\\dell\\video summariser\\song\\song.wav')\n",
    "# import pygame\n",
    "# file = r'C:\\Users\\dell\\video summariser\\songJava\\song.wav'\n",
    "# pygame.init()\n",
    "# pygame.mixer.init()\n",
    "# pygame.mixer.music.load(file)\n",
    "# pygame.mixer.music.play()\n",
    "# while pygame.mixer.music.get_busy(): \n",
    "#     pygame.time.Clock().tick(10)"
   ]
  },
  {
   "cell_type": "code",
   "execution_count": null,
   "metadata": {},
   "outputs": [],
   "source": [
    "import pyaudio\n",
    "import wave\n",
    "\n",
    "filename = r'C:\\Users\\dell\\video summariser\\song\\song.wav'\n",
    "\n",
    "# Set chunk size of 1024 samples per data frame\n",
    "chunk = 1024  \n",
    "\n",
    "# Open the sound file \n",
    "wf = wave.open(filename, 'rb')\n",
    "\n",
    "# Create an interface to PortAudio\n",
    "p = pyaudio.PyAudio()\n",
    "\n",
    "# Open a .Stream object to write the WAV file to\n",
    "# 'output = True' indicates that the sound will be played rather than recorded\n",
    "stream = p.open(format = p.get_format_from_width(wf.getsampwidth()),\n",
    "                channels = wf.getnchannels(),\n",
    "                rate = wf.getframerate(),\n",
    "                output = True)\n",
    "\n",
    "# Read data in chunks\n",
    "data = wf.readframes(chunk)\n",
    "\n",
    "# Play the sound by writing the audio data to the stream\n",
    "while data != '':\n",
    "    stream.write(data)\n",
    "    data = wf.readframes(chunk)\n",
    "    \n",
    "    if data == b'':\n",
    "        break\n",
    "\n",
    "# Close and terminate the stream\n",
    "wf.close()\n",
    "stream.close()\n",
    "p.terminate()"
   ]
  },
  {
   "cell_type": "code",
   "execution_count": null,
   "metadata": {},
   "outputs": [],
   "source": [
    "button = driver.find_element_by_id(\"start_button\")\n",
    "button.click()\n",
    "\n",
    "time.sleep(1)\n",
    "\n",
    "span1 = driver.find_element_by_id(\"final_span\")\n",
    "span2 = driver.find_element_by_id(\"interim_span\")\n",
    "converted_text = span1.text + span2.text\n",
    "print(converted_text)\n",
    "\n",
    "driver.close()"
   ]
  },
  {
   "cell_type": "code",
   "execution_count": null,
   "metadata": {},
   "outputs": [],
   "source": [
    "text_file = open(r'C:\\Users\\dell\\video summariser\\generated_text\\generated_text.txt','w')\n",
    "text_file.write(converted_text)\n",
    "text_file.close()"
   ]
  },
  {
   "cell_type": "code",
   "execution_count": null,
   "metadata": {},
   "outputs": [],
   "source": []
  }
 ],
 "metadata": {
  "kernelspec": {
   "display_name": "Python 3",
   "language": "python",
   "name": "python3"
  },
  "language_info": {
   "codemirror_mode": {
    "name": "ipython",
    "version": 3
   },
   "file_extension": ".py",
   "mimetype": "text/x-python",
   "name": "python",
   "nbconvert_exporter": "python",
   "pygments_lexer": "ipython3",
   "version": "3.7.3"
  }
 },
 "nbformat": 4,
 "nbformat_minor": 2
}
