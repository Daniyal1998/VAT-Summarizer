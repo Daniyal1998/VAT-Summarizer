{
 "cells": [
  {
   "cell_type": "code",
   "execution_count": 1,
   "metadata": {},
   "outputs": [],
   "source": [
    "import sumy\n",
    "from sumy.parsers.plaintext import PlaintextParser\n",
    "from sumy.nlp.tokenizers import Tokenizer\n",
    "from sumy.nlp.stemmers import Stemmer\n",
    "from sumy.utils import get_stop_words"
   ]
  },
  {
   "cell_type": "code",
   "execution_count": 2,
   "metadata": {},
   "outputs": [],
   "source": [
    "text = 'In this presentation will do the comparison between the synchronous sequential circuits and before I move to the different points I want you to have a paper and pen so that you may write the points that we will discuss there is nothing much special in this presentation accept you remember so and sequential circuits and column for asynchronous sequential circuit and you can write it in the way so let\\'s move to the first. This is about it in designing if I talk about the synchronous sequential circuit then they are easy to design where as asynchronous Circuit Design as compared to the synchronous one this is our first. And in second. We will talk about the clocking ok if I use a flip flop in synchronous sequential circuit then it must be clogged where as if I use a flip flop in async should be on clock so this is a very important point and actually whole story revolves around locking ok because of this locking and unlocking everything changes in this to suck third. In this will talk about the execution time are the speed of the circuit is having a clock and because of the clock this speed is slower as compared to the asynchronous circuit because in that there is faster this is important point to remember and the food. Is the very important thing and it all depends on the status of the memory element that is a flip flop definitely stores the status or you can say that this is affected only at the active age of the clock gifwhat is changed I buy active as we mean negative edge triggering for the positive castrating so that reading is well and it is not level if it is level it will be asynchronous circuit like in this you can read this status of memory element will change as old as soon as input change it is level triggered if you are giving then put it will not wait for the edge of the clock it will process the input and generate the output depending upon its propagation delay I am all that you need to know about the synchronous and asynchronous sequential circuit the only thing that you have to remember is the clock the clock is given in the synchronous sequential circuit where as we use an clock flip flop in asynchronous sequential so I will end this presentation to the next one'"
   ]
  },
  {
   "cell_type": "code",
   "execution_count": 3,
   "metadata": {},
   "outputs": [
    {
     "name": "stdout",
     "output_type": "stream",
     "text": [
      "We will talk about the clocking ok if I use a flip flop in synchronous sequential circuit then it must be clogged where as if I use a flip flop in async should be on clock so this is a very important point and actually whole story revolves around locking ok because of this locking and unlocking everything changes in this to suck third.\n",
      "Is the very important thing and it all depends on the status of the memory element that is a flip flop definitely stores the status or you can say that this is affected only at the active age of the clock gifwhat is changed I buy active as we mean negative edge triggering for the positive castrating so that reading is well and it is not level if it is level it will be asynchronous circuit like in this you can read this status of memory element will change as old as soon as input change it is level triggered if you are giving then put it will not wait for the edge of the clock it will process the input and generate the output depending upon its propagation delay I am all that you need to know about the synchronous and asynchronous sequential circuit the only thing that you have to remember is the clock the clock is given in the synchronous sequential circuit where as we use an clock flip flop in asynchronous sequential so I will end this presentation to the next one\n",
      "\n",
      "\n",
      "\n",
      "\n",
      "In this presentation will do the comparison between the synchronous sequential circuits and before I move to the different points I want you to have a paper and pen so that you may write the points that we will discuss there is nothing much special in this presentation accept you remember so and sequential circuits and column for asynchronous sequential circuit and you can write it in the way so let's move to the first. This is about it in designing if I talk about the synchronous sequential circuit then they are easy to design where as asynchronous Circuit Design as compared to the synchronous one this is our first. And in second. We will talk about the clocking ok if I use a flip flop in synchronous sequential circuit then it must be clogged where as if I use a flip flop in async should be on clock so this is a very important point and actually whole story revolves around locking ok because of this locking and unlocking everything changes in this to suck third. In this will talk about the execution time are the speed of the circuit is having a clock and because of the clock this speed is slower as compared to the asynchronous circuit because in that there is faster this is important point to remember and the food. Is the very important thing and it all depends on the status of the memory element that is a flip flop definitely stores the status or you can say that this is affected only at the active age of the clock gifwhat is changed I buy active as we mean negative edge triggering for the positive castrating so that reading is well and it is not level if it is level it will be asynchronous circuit like in this you can read this status of memory element will change as old as soon as input change it is level triggered if you are giving then put it will not wait for the edge of the clock it will process the input and generate the output depending upon its propagation delay I am all that you need to know about the synchronous and asynchronous sequential circuit the only thing that you have to remember is the clock the clock is given in the synchronous sequential circuit where as we use an clock flip flop in asynchronous sequential so I will end this presentation to the next one\n"
     ]
    }
   ],
   "source": [
    "from sumy.summarizers.lex_rank import LexRankSummarizer\n",
    "parser = PlaintextParser.from_string(text,Tokenizer(\"english\"))\n",
    "# Using LexRank\n",
    "summarizer = LexRankSummarizer()\n",
    "#Summarize the document with 2 sentences\n",
    "summary = summarizer(parser.document, 2)\n",
    "for sentence in summary:\n",
    "    print(sentence)\n",
    "    \n",
    "print('\\n\\n\\n')\n",
    "print(text)"
   ]
  },
  {
   "cell_type": "code",
   "execution_count": 5,
   "metadata": {},
   "outputs": [
    {
     "name": "stdout",
     "output_type": "stream",
     "text": [
      "This is about it in designing if I talk about the synchronous sequential circuit then they are easy to design where as asynchronous Circuit Design as compared to the synchronous one this is our first.\n",
      "We will talk about the clocking ok if I use a flip flop in synchronous sequential circuit then it must be clogged where as if I use a flip flop in async should be on clock so this is a very important point and actually whole story revolves around locking ok because of this locking and unlocking everything changes in this to suck third.\n",
      "\n",
      "\n",
      "\n",
      "\n",
      "In this presentation will do the comparison between the synchronous sequential circuits and before I move to the different points I want you to have a paper and pen so that you may write the points that we will discuss there is nothing much special in this presentation accept you remember so and sequential circuits and column for asynchronous sequential circuit and you can write it in the way so let's move to the first. This is about it in designing if I talk about the synchronous sequential circuit then they are easy to design where as asynchronous Circuit Design as compared to the synchronous one this is our first. And in second. We will talk about the clocking ok if I use a flip flop in synchronous sequential circuit then it must be clogged where as if I use a flip flop in async should be on clock so this is a very important point and actually whole story revolves around locking ok because of this locking and unlocking everything changes in this to suck third. In this will talk about the execution time are the speed of the circuit is having a clock and because of the clock this speed is slower as compared to the asynchronous circuit because in that there is faster this is important point to remember and the food. Is the very important thing and it all depends on the status of the memory element that is a flip flop definitely stores the status or you can say that this is affected only at the active age of the clock gifwhat is changed I buy active as we mean negative edge triggering for the positive castrating so that reading is well and it is not level if it is level it will be asynchronous circuit like in this you can read this status of memory element will change as old as soon as input change it is level triggered if you are giving then put it will not wait for the edge of the clock it will process the input and generate the output depending upon its propagation delay I am all that you need to know about the synchronous and asynchronous sequential circuit the only thing that you have to remember is the clock the clock is given in the synchronous sequential circuit where as we use an clock flip flop in asynchronous sequential so I will end this presentation to the next one\n"
     ]
    }
   ],
   "source": [
    "from sumy.summarizers.lsa import LsaSummarizer\n",
    "parser = PlaintextParser.from_string(text,Tokenizer(\"english\"))\n",
    "#using LSA\n",
    "summarizer = LsaSummarizer()\n",
    "#Summarize the document with 2 sentences\n",
    "summary = summarizer(parser.document, 2)\n",
    "\n",
    "for sentence in summary:\n",
    "    print(sentence)\n",
    "    \n",
    "print('\\n\\n\\n')\n",
    "print(text)"
   ]
  },
  {
   "cell_type": "code",
   "execution_count": 7,
   "metadata": {},
   "outputs": [
    {
     "name": "stdout",
     "output_type": "stream",
     "text": [
      "In this presentation will do the comparison between the synchronous sequential circuits and before I move to the different points I want you to have a paper and pen so that you may write the points that we will discuss there is nothing much special in this presentation accept you remember so and sequential circuits and column for asynchronous sequential circuit and you can write it in the way so let's move to the first.\n",
      "Is the very important thing and it all depends on the status of the memory element that is a flip flop definitely stores the status or you can say that this is affected only at the active age of the clock gifwhat is changed I buy active as we mean negative edge triggering for the positive castrating so that reading is well and it is not level if it is level it will be asynchronous circuit like in this you can read this status of memory element will change as old as soon as input change it is level triggered if you are giving then put it will not wait for the edge of the clock it will process the input and generate the output depending upon its propagation delay I am all that you need to know about the synchronous and asynchronous sequential circuit the only thing that you have to remember is the clock the clock is given in the synchronous sequential circuit where as we use an clock flip flop in asynchronous sequential so I will end this presentation to the next one\n",
      "\n",
      "\n",
      "\n",
      "\n",
      "In this presentation will do the comparison between the synchronous sequential circuits and before I move to the different points I want you to have a paper and pen so that you may write the points that we will discuss there is nothing much special in this presentation accept you remember so and sequential circuits and column for asynchronous sequential circuit and you can write it in the way so let's move to the first. This is about it in designing if I talk about the synchronous sequential circuit then they are easy to design where as asynchronous Circuit Design as compared to the synchronous one this is our first. And in second. We will talk about the clocking ok if I use a flip flop in synchronous sequential circuit then it must be clogged where as if I use a flip flop in async should be on clock so this is a very important point and actually whole story revolves around locking ok because of this locking and unlocking everything changes in this to suck third. In this will talk about the execution time are the speed of the circuit is having a clock and because of the clock this speed is slower as compared to the asynchronous circuit because in that there is faster this is important point to remember and the food. Is the very important thing and it all depends on the status of the memory element that is a flip flop definitely stores the status or you can say that this is affected only at the active age of the clock gifwhat is changed I buy active as we mean negative edge triggering for the positive castrating so that reading is well and it is not level if it is level it will be asynchronous circuit like in this you can read this status of memory element will change as old as soon as input change it is level triggered if you are giving then put it will not wait for the edge of the clock it will process the input and generate the output depending upon its propagation delay I am all that you need to know about the synchronous and asynchronous sequential circuit the only thing that you have to remember is the clock the clock is given in the synchronous sequential circuit where as we use an clock flip flop in asynchronous sequential so I will end this presentation to the next one\n"
     ]
    }
   ],
   "source": [
    "from sumy.summarizers.luhn import LuhnSummarizer\n",
    "parser = PlaintextParser.from_string(text,Tokenizer(\"english\"))\n",
    "#using Luhn\n",
    "summarizer = LuhnSummarizer()\n",
    "#Summarize the document with 2 sentences\n",
    "summary = summarizer(parser.document, 2)\n",
    "\n",
    "for sentence in summary:\n",
    "    print(sentence)\n",
    "    \n",
    "print('\\n\\n\\n')\n",
    "print(text)"
   ]
  },
  {
   "cell_type": "code",
   "execution_count": 8,
   "metadata": {},
   "outputs": [
    {
     "name": "stdout",
     "output_type": "stream",
     "text": [
      "In this presentation will do the comparison between the synchronous sequential circuits and before I move to the different points I want you to have a paper and pen so that you may write the points that we will discuss there is nothing much special in this presentation accept you remember so and sequential circuits and column for asynchronous sequential circuit and you can write it in the way so let's move to the first.\n",
      "Is the very important thing and it all depends on the status of the memory element that is a flip flop definitely stores the status or you can say that this is affected only at the active age of the clock gifwhat is changed I buy active as we mean negative edge triggering for the positive castrating so that reading is well and it is not level if it is level it will be asynchronous circuit like in this you can read this status of memory element will change as old as soon as input change it is level triggered if you are giving then put it will not wait for the edge of the clock it will process the input and generate the output depending upon its propagation delay I am all that you need to know about the synchronous and asynchronous sequential circuit the only thing that you have to remember is the clock the clock is given in the synchronous sequential circuit where as we use an clock flip flop in asynchronous sequential so I will end this presentation to the next one\n",
      "\n",
      "\n",
      "\n",
      "\n",
      "In this presentation will do the comparison between the synchronous sequential circuits and before I move to the different points I want you to have a paper and pen so that you may write the points that we will discuss there is nothing much special in this presentation accept you remember so and sequential circuits and column for asynchronous sequential circuit and you can write it in the way so let's move to the first. This is about it in designing if I talk about the synchronous sequential circuit then they are easy to design where as asynchronous Circuit Design as compared to the synchronous one this is our first. And in second. We will talk about the clocking ok if I use a flip flop in synchronous sequential circuit then it must be clogged where as if I use a flip flop in async should be on clock so this is a very important point and actually whole story revolves around locking ok because of this locking and unlocking everything changes in this to suck third. In this will talk about the execution time are the speed of the circuit is having a clock and because of the clock this speed is slower as compared to the asynchronous circuit because in that there is faster this is important point to remember and the food. Is the very important thing and it all depends on the status of the memory element that is a flip flop definitely stores the status or you can say that this is affected only at the active age of the clock gifwhat is changed I buy active as we mean negative edge triggering for the positive castrating so that reading is well and it is not level if it is level it will be asynchronous circuit like in this you can read this status of memory element will change as old as soon as input change it is level triggered if you are giving then put it will not wait for the edge of the clock it will process the input and generate the output depending upon its propagation delay I am all that you need to know about the synchronous and asynchronous sequential circuit the only thing that you have to remember is the clock the clock is given in the synchronous sequential circuit where as we use an clock flip flop in asynchronous sequential so I will end this presentation to the next one\n"
     ]
    }
   ],
   "source": [
    "from sumy.summarizers.text_rank import TextRankSummarizer\n",
    "parser = PlaintextParser.from_string(text,Tokenizer(\"english\"))\n",
    "#using TextRank\n",
    "summarizer = TextRankSummarizer()\n",
    "#Summarize the document with 2 sentences\n",
    "summary = summarizer(parser.document, 2)\n",
    "\n",
    "for sentence in summary:\n",
    "    print(sentence)\n",
    "    \n",
    "print('\\n\\n\\n')\n",
    "print(text)"
   ]
  },
  {
   "cell_type": "code",
   "execution_count": null,
   "metadata": {},
   "outputs": [],
   "source": []
  }
 ],
 "metadata": {
  "kernelspec": {
   "display_name": "Python 3",
   "language": "python",
   "name": "python3"
  },
  "language_info": {
   "codemirror_mode": {
    "name": "ipython",
    "version": 3
   },
   "file_extension": ".py",
   "mimetype": "text/x-python",
   "name": "python",
   "nbconvert_exporter": "python",
   "pygments_lexer": "ipython3",
   "version": "3.7.3"
  }
 },
 "nbformat": 4,
 "nbformat_minor": 2
}
