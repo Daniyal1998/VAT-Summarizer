{
 "cells": [
  {
   "cell_type": "code",
   "execution_count": 1,
   "metadata": {},
   "outputs": [],
   "source": [
    "import time\n",
    "from selenium import webdriver\n",
    "from selenium.webdriver.chrome.options import Options\n",
    "\n",
    "option = Options()\n",
    "\n",
    "option.add_argument(\"--disable-infobars\")\n",
    "option.add_argument(\"start-maximized\")\n",
    "option.add_argument(\"--disable-extensions\")\n",
    "\n",
    "# Pass the argument 1 to allow and 2 to block\n",
    "option.add_experimental_option(\"prefs\", { \n",
    "    \"profile.default_content_setting_values.media_stream_mic\": 1 \n",
    "})\n",
    "\n",
    "driver = webdriver.Chrome(options = option, executable_path = r\"C:\\chromedriver\\chromedriver.exe\")\n",
    "driver.get('https://www.google.com/intl/en/chrome/demos/speech.html?authuser=2')\n",
    "\n",
    "dropdown = driver.find_element_by_id(\"select_dialect\")\n",
    "for option in dropdown.find_elements_by_tag_name('option'):\n",
    "    if option.text == 'India':\n",
    "        option.click() # select() in earlier versions of webdriver\n",
    "        break\n",
    "\n",
    "button = driver.find_element_by_id(\"start_button\")\n",
    "button.click()"
   ]
  },
  {
   "cell_type": "code",
   "execution_count": 1,
   "metadata": {},
   "outputs": [
    {
     "name": "stdout",
     "output_type": "stream",
     "text": [
      "pygame 1.9.6\n",
      "Hello from the pygame community. https://www.pygame.org/contribute.html\n"
     ]
    }
   ],
   "source": [
    "from playsound import playsound\n",
    "playsound(r'C:\\Users\\dell\\video summariser\\song\\song.wav')\n",
    "# import pygame\n",
    "# file = r'C:\\Users\\dell\\video summariser\\songJava\\song.wav'\n",
    "# pygame.init()\n",
    "# pygame.mixer.init()\n",
    "# pygame.mixer.music.load(file)\n",
    "# pygame.mixer.music.play()\n",
    "# while pygame.mixer.music.get_busy(): \n",
    "#     pygame.time.Clock().tick(10)"
   ]
  },
  {
   "cell_type": "code",
   "execution_count": 2,
   "metadata": {},
   "outputs": [],
   "source": [
    "import pyaudio\n",
    "import wave\n",
    "\n",
    "filename = r'C:\\Users\\dell\\video summariser\\song\\song.wav'\n",
    "\n",
    "# Set chunk size of 1024 samples per data frame\n",
    "chunk = 1024  \n",
    "\n",
    "# Open the sound file \n",
    "wf = wave.open(filename, 'rb')\n",
    "\n",
    "# Create an interface to PortAudio\n",
    "p = pyaudio.PyAudio()\n",
    "\n",
    "# Open a .Stream object to write the WAV file to\n",
    "# 'output = True' indicates that the sound will be played rather than recorded\n",
    "stream = p.open(format = p.get_format_from_width(wf.getsampwidth()),\n",
    "                channels = wf.getnchannels(),\n",
    "                rate = wf.getframerate(),\n",
    "                output = True)\n",
    "\n",
    "# Read data in chunks\n",
    "data = wf.readframes(chunk)\n",
    "\n",
    "# Play the sound by writing the audio data to the stream\n",
    "while data != '':\n",
    "    stream.write(data)\n",
    "    data = wf.readframes(chunk)\n",
    "    \n",
    "    if data == b'':\n",
    "        break\n",
    "\n",
    "# Close and terminate the stream\n",
    "wf.close()\n",
    "stream.close()\n",
    "p.terminate()"
   ]
  },
  {
   "cell_type": "code",
   "execution_count": 3,
   "metadata": {},
   "outputs": [
    {
     "name": "stdout",
     "output_type": "stream",
     "text": [
      "Presentation we will do the comparison between the synchronous sequential circuits and asynchronous sequential circuits I want you to have a paper and pen so that you may write the points that we will discuss there is nothing much special in this presentation except remembering the. So we will move to a first. Column for synchronous sequential circuits and column for asynchronous sequential circuit one by one can ride it in the way so let's move at this point is about the difficulty in designing if I talk about the synchronous sequential circuit then they are easy to design where as asynchronous circuit is little bit tough to design in this is our first. And in second. We will talk about the clocking ok if I use it should be so this is a very important. Whole story revolves around blocking locking and unlocking everything changes in this to circuit know let's move to third. In this will talk about the execution time are the speed of the circuit so the SIM is having a clock and because o'clock this speed is slower as compared to the asynchronous circuit because in that there is no clock as soon as the input is there the output will be generated so it is faster this is a important points to remember and the food. Is the very important thing and it all depends upon the clouds the status of the memory element that is a flip-flop can say that the state is affected only at the active edge of the clock gif what is changed I bi active as we mean negative edge triggering for the positive is edge and it is not level if it is level it will be asynchronous circuit like in this you can read this status of memory element will change as soon as input change it is level triggered if you are giving the input and output that you need to know about this the only thing that you have to remember\n"
     ]
    }
   ],
   "source": [
    "button = driver.find_element_by_id(\"start_button\")\n",
    "button.click()\n",
    "\n",
    "time.sleep(1)\n",
    "\n",
    "span1 = driver.find_element_by_id(\"final_span\")\n",
    "span2 = driver.find_element_by_id(\"interim_span\")\n",
    "converted_text = span1.text + span2.text\n",
    "print(converted_text)\n",
    "\n",
    "driver.close()"
   ]
  },
  {
   "cell_type": "code",
   "execution_count": 4,
   "metadata": {},
   "outputs": [],
   "source": [
    "text_file = open(r'C:\\Users\\dell\\video summariser\\generated_text\\generated_text.txt','w')\n",
    "text_file.write(converted_text)\n",
    "text_file.close()"
   ]
  },
  {
   "cell_type": "code",
   "execution_count": null,
   "metadata": {},
   "outputs": [],
   "source": []
  }
 ],
 "metadata": {
  "kernelspec": {
   "display_name": "Python 3",
   "language": "python",
   "name": "python3"
  },
  "language_info": {
   "codemirror_mode": {
    "name": "ipython",
    "version": 3
   },
   "file_extension": ".py",
   "mimetype": "text/x-python",
   "name": "python",
   "nbconvert_exporter": "python",
   "pygments_lexer": "ipython3",
   "version": "3.7.3"
  }
 },
 "nbformat": 4,
 "nbformat_minor": 2
}
